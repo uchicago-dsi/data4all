{
  "cells": [
    {
      "cell_type": "code",
      "source": [],
      "metadata": {
        "id": "6cFdpLvv_H6f"
      },
      "id": "6cFdpLvv_H6f",
      "execution_count": null,
      "outputs": []
    },
    {
      "cell_type": "markdown",
      "id": "02839d01",
      "metadata": {
        "id": "02839d01"
      },
      "source": [
        "# Welcome to Google Colab notebooks!\n",
        "\n",
        "In this course, we will be using Google Colab notebooks to practice coding in Python. Colab provide an interactive way to construct and visualize Python code in one setting. Let's do a walk-through of the notebook environment:\n",
        "\n",
        "When we open a notebook, the notebook runs out of what is called a **runtime**. A runtime refers to the computing environment where your code is executed. Colab\n",
        "runs your code using a virtual machine.\n",
        "\n",
        "## Opening and renaming Colab notebooks\n",
        "\n",
        "An example of a workspace in Colab is shown below:\n",
        "\n",
        "- ***Colab Notebook***: the space where you can run and visualize Python code.\n",
        "- ***Menu Bar***: provides options for managing and modifying the notebook.\n",
        "- ***Side Bar***: provides additional options for managing and modifying the workspace and notebook (we won't really use this in Data4All).\n",
        "\n",
        "<img src=\"https://raw.githubusercontent.com/uchicago-dsi/data4all/refs/heads/published/imgs/Colab-Workspace.png\" align=\"center\">\n",
        "\n",
        "If you would like to open another notebook, you can navigate to `File > Open Notebook` and a new window will open. This new window will give you access to other Colab notebooks that you recently opened, ones that are on your Google Drive and Github, and allows you to upload notebooks from your local machine.\n",
        "\n",
        "If you would like to create a new notebook, you can navigate to `File > New notebook in Drive`. A new notebook will be created in a separate window.\n",
        "\n",
        "\n",
        "<img src=\"https://raw.githubusercontent.com/uchicago-dsi/data4all/refs/heads/published/imgs/New-notebook-ezgif.com-video-to-gif-converter.gif\" align=\"center\">\n",
        "\n",
        "> *Creating a new Colab Notebook*\n",
        "\n",
        "When creating a new notebook, it we be untitled by default. If you go to `File > Rename`, you can rename this notebook to whatever you like. You can also click on the name on the top left corner next to the Colab logo and rename it from there.\n",
        "\n",
        "\n",
        "****"
      ]
    },
    {
      "cell_type": "markdown",
      "id": "40932d85",
      "metadata": {
        "id": "40932d85"
      },
      "source": [
        "## Code and markdown cells\n",
        "\n",
        "In a Colab notebook, there are two types of cells: **code** cells and **markdown** cells.\n",
        "\n",
        "### Code cells\n",
        "- Can be executed to perform a certain task and/or give a certain output.\n",
        "- Can also contain *comments*, which are demarcated by a hashtag ( # ). Comments are not executed by the computer, but can be useful for a human reader in understanding the code.\n",
        "\n",
        "\n",
        "### Markdown cells\n",
        "- Used to make human-readable text and graphics (like this cell that you're reading currently).\n",
        "- Utilizes some HTML code elements for modifying text and pictures (see below).\n",
        "- When executed, markdown code renders all text and graphics in a readable form.\n",
        "\n",
        "*Note: Markdown cells and code comments can be great ways to take notes on code.*\n",
        "\n",
        "**You can add code and markdown cells by navigating to the dropdown menu in the menu and selecting either** `+ Code` **or** `+ Text`**.**"
      ]
    },
    {
      "cell_type": "code",
      "execution_count": null,
      "id": "64f41048",
      "metadata": {
        "id": "64f41048"
      },
      "outputs": [],
      "source": [
        "# This is a code cell.\n",
        "# Code cells execute written code that is not commented away by a hashtag\n",
        "# When you run a line that is commented away, the line is skipped over.\n",
        "# Nothing will happen if you run this cell."
      ]
    },
    {
      "cell_type": "markdown",
      "id": "c15a28df",
      "metadata": {
        "id": "c15a28df"
      },
      "source": [
        "### This is a markdown cell (with a H3 header).\n",
        "\n",
        "> You can find *text*, **links**, <u>photos</u>, etc. in markdown cells.\n",
        "> Double-click this cell to edit it.\n",
        "\n",
        "- For more information on markdown features, refer to the **Markdown in Jupyter Notebook Tutorial** by Datacamp <a href=\"https://www.datacamp.com/tutorial/markdown-in-jupyter-notebook\">here</a>.\n",
        "\n",
        "---"
      ]
    },
    {
      "cell_type": "markdown",
      "id": "8dc6244d",
      "metadata": {
        "id": "8dc6244d"
      },
      "source": [
        "## Creating, deleting, and moving cells\n",
        "\n",
        "Adding and deleting cells are important functionalities within Colab notebooks. Shown below is the notebook toolbar (near the top right of your screen) with options that are important for managing cells and working in the Google Colab workspace:\n",
        "\n",
        "<img src=\"https://raw.githubusercontent.com/uchicago-dsi/data4all/refs/heads/published/imgs/Creating-deleting-moving-Colab.png\" width=\"800\" align=\"center\">\n",
        "\n",
        "> *Icons for adding, deleting, and moving cells*\n",
        "\n",
        "- ***Move Up/Down***: Moves the selected cell up and down in the sequence of cells in the notebook.\n",
        "- ***Copy Link to Cell***: Copies a link to the selected cell to your clipboard.\n",
        "- ***Add a Comment***: Adds a comment to the selected cell.\n",
        "- ***Edit***: Edits the selected cell.\n",
        "- ***Mirror Cell in Tab***: Shows the selected cell on the side.\n",
        "- ***Delete Cell***: Deletes the selected cell.\n",
        "- ***More Cell Actions***: More options to edit the selected cell."
      ]
    },
    {
      "cell_type": "markdown",
      "id": "86e12753",
      "metadata": {
        "id": "86e12753"
      },
      "source": [
        "****\n",
        "\n",
        "## Running cells\n",
        "\n",
        "To run a selected cell, you can go to `Runtime` > `Run selection` in the menu bar. You can also utilize the keyboard shortcut listed next to the `Run selection` option.\n",
        "\n",
        "You are encouraged to get acquainted with keyboard shortcuts as much as possible, as it will make your coding experience much easier.\n",
        "\n",
        "****"
      ]
    },
    {
      "cell_type": "markdown",
      "id": "f166216f",
      "metadata": {
        "id": "f166216f"
      },
      "source": [
        "## Executing cells and outputs\n",
        "\n",
        "To the left of an executed code cell, you will see `[ ]:`. Within the brackets, you will see a number when a cell that has been successfully executed. In notebooks, cells can be run out of order, so this number on the side indicates the order in which the cell was executed in the runtime.\n",
        "\n",
        "The cell beneath the executed cell may show the associated output for the cell. Note that not all code will have a visible output.\n",
        "\n",
        "When a cell has a loading \"play button\" next to it, it means that the cell is currently running or is queued to run.\n",
        "\n",
        "<img src=\"https://raw.githubusercontent.com/uchicago-dsi/data4all/refs/heads/published/imgs/Input-Output-Colab.png\" width=\"200\" align=\"center\">\n",
        "\n",
        "> *An executed input and output cell*\n",
        "\n",
        "### Interrupting and restarting the kernel\n",
        "From the menu bar, you can stop a cell from executing by going to `Runtime` > `Interrupt Execution`\n",
        "\n",
        "<img src=\"https://raw.githubusercontent.com/uchicago-dsi/data4all/refs/heads/published/imgs/Interrupt-execution-colab.png\" width=\"400\" align=\"center\">\n",
        "\n",
        "> *Icons for running cells, interrupting the kernel, and restarting the kernel*\n",
        "\n",
        "****"
      ]
    },
    {
      "cell_type": "markdown",
      "id": "ac954658",
      "metadata": {
        "id": "ac954658"
      },
      "source": [
        "### <code style=\"background:#83ebd5;color:black\">Exercise:</code>\n",
        "\n",
        "Create a code cell and a markdown cell below. In the code cell, type a <u>simple</u> arithmetic problem using subtraction or addition, as you would in a calculator, and execute the cell to get the answer as an output.\n",
        "\n",
        "In the markdown cell, type your name, phone number, and home address on SEPARATE LINES. Using the markdown cells above and the *Markdown in Jupyter Notebook Tutorial* guide as a reference, figure out how to bold your name, italicize your phone number, and underline your address.\n",
        "****"
      ]
    },
    {
      "cell_type": "code",
      "source": [],
      "metadata": {
        "id": "g5gOx0SEJHHK"
      },
      "id": "g5gOx0SEJHHK",
      "execution_count": null,
      "outputs": []
    }
  ],
  "metadata": {
    "kernelspec": {
      "display_name": "Python 3 (ipykernel)",
      "language": "python",
      "name": "python3"
    },
    "language_info": {
      "codemirror_mode": {
        "name": "ipython",
        "version": 3
      },
      "file_extension": ".py",
      "mimetype": "text/x-python",
      "name": "python",
      "nbconvert_exporter": "python",
      "pygments_lexer": "ipython3",
      "version": "3.9.12"
    },
    "colab": {
      "provenance": []
    }
  },
  "nbformat": 4,
  "nbformat_minor": 5
}