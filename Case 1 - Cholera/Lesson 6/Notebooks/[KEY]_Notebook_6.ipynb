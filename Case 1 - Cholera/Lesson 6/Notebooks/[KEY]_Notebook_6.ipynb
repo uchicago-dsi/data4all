{
  "cells": [
    {
      "cell_type": "markdown",
      "id": "025fd386-4174-4258-8c6a-c1c494393fd1",
      "metadata": {
        "id": "025fd386-4174-4258-8c6a-c1c494393fd1"
      },
      "source": [
        "# Notebook 6: The South London Experiment\n",
        "\n"
      ]
    },
    {
      "cell_type": "markdown",
      "id": "131eb777-8ca6-4780-a087-89a59133af91",
      "metadata": {
        "id": "131eb777-8ca6-4780-a087-89a59133af91"
      },
      "source": [
        "***By the end of this notebook, you should:***\n",
        "- observe the power of natural experiments\n",
        "- refresh your memory on contingency tables, statistical significance, and scientific visualization\n",
        "- find out if contaminated water is a plausible explanation for why Londoners died of cholera"
      ]
    },
    {
      "cell_type": "markdown",
      "id": "e97f503d-d8d5-4612-94b8-c2ae524228d8",
      "metadata": {
        "id": "e97f503d-d8d5-4612-94b8-c2ae524228d8"
      },
      "source": [
        "## The 2 Water Suppliers\n",
        "\n",
        "South London was served by two water companies: Lambeth and Southwark & Vauxhall. In 1849, both drew their water from about the same location along the Thames River when London experienced one of its worst cholera outbreaks.\n",
        "\n",
        "In 1852, the Lambeth Waterworks Company moved its water intake further up the River Thames, away from where the sewage pipes entered the river. The Southwark & Vauxhall water company, on the other hand, left its intake in the same location where sewage was still entering its drinking water supply.\n",
        "\n",
        "<br>\n",
        "\n",
        "<table><tr>\n",
        "    <td> <img src=\"https://raw.githubusercontent.com/uchicago-dsi/2023-data4all/main/imgs/south_london_water.jpeg?raw=true\" alt=\"Drawing\" width=\"600\"> </td>\n",
        "</tr></table>\n",
        "\n",
        "<br>\n",
        "\n",
        "Lambeth moving its water supply presented a unique opportunity for researchers of the time to study whether moving the water supply influenced Londoners' likelihood of dying from cholera. While the researchers did not themselves change the research environment by moving the water supply, they can study if and how this change affected their outcome variable. In data science, we call such an experiment a **natural experiment**."
      ]
    },
    {
      "cell_type": "markdown",
      "id": "ae7455d3-e70d-408e-8566-c2dd31039c92",
      "metadata": {
        "id": "ae7455d3-e70d-408e-8566-c2dd31039c92"
      },
      "source": [
        "<img src=\"https://github.com/uchicago-dsi/2023-data4all/blob/main/imgs/pencil.png?raw=true\" alt=\"Drawing\" align=left width=20px/> <font size=\"4\"> **Journal 6a:** Examples of natural experiments</font>\n",
        "\n",
        "**Consider recent events in your lifetime. Can you think of an event that scientists could use as a natural experiment?** *(feel free to be creative!)*\n",
        "\n",
        "> Write your answer here!\n",
        "\n",
        "<br>"
      ]
    },
    {
      "cell_type": "markdown",
      "id": "896a347a-0173-4588-8b11-e26db8c687c7",
      "metadata": {
        "id": "896a347a-0173-4588-8b11-e26db8c687c7"
      },
      "source": [
        "## Testing the Waterborne Hypothesis"
      ]
    },
    {
      "cell_type": "markdown",
      "id": "ef7dfd6e-5971-4277-860c-50ca00edc8d8",
      "metadata": {
        "id": "ef7dfd6e-5971-4277-860c-50ca00edc8d8"
      },
      "source": [
        "When we used contingency tables in the past, we compared a **treatment group** to a **control group**. In this case, the subdistricts and their people that received their water from Lambeth are considered the **treatment group**. Why do you think that is?\n",
        "\n",
        "The independent (explanatory) variable is the water company and the dependent (outcome) variable is cholera deaths.  Since we are examining a change over time, we will split the dependent variable into deaths in 1849 (before Lambeth moved their water supply) and deaths in 1854 (after Lambeth moved their water supply).\n",
        "\n",
        "The resulting contingency table will look like this.\n",
        "\n",
        "<img src = \"https://raw.githubusercontent.com/uchicago-dsi/2023-data4all/main/imgs/grand_exp_contingency.jpeg?raw=true\" width=\"700\"/>\n",
        "\n",
        "**Let's build this contingency table!**\n",
        "\n",
        "\n"
      ]
    },
    {
      "cell_type": "code",
      "execution_count": null,
      "id": "4c566613",
      "metadata": {
        "id": "4c566613"
      },
      "outputs": [],
      "source": [
        "import pandas as pd\n",
        "from matplotlib import pyplot as plt\n",
        "Subdistricts = pd.read_csv(\"https://raw.githubusercontent.com/uchicago-dsi/2023-data4all/main/Datasets/subdistricts_dataset.csv?raw=true\")\n"
      ]
    },
    {
      "cell_type": "markdown",
      "id": "75fa8a45",
      "metadata": {
        "id": "75fa8a45"
      },
      "source": [
        "### Data Dictionary\n",
        "\n",
        "- **district**: the London district\n",
        "- **subdist**: the subdistrict within the larger district\n",
        "- **supplier**: who supplies the water to the subdistrict\n",
        "- **perc_sou**: percentage of subdistrict water from Southwark & Vauxhall\n",
        "- **perc_lam**: percentage of subdistrict water from Lambeth\n",
        "- **pop_1849**: subdistrict population in 1849\n",
        "- **pop_1854**: subdistrict population in 1854\n",
        "- **deaths1849**: deaths from cholera in 1849\n",
        "- **deaths1854**: deaths from cholera in 1854"
      ]
    },
    {
      "cell_type": "code",
      "execution_count": null,
      "id": "97f2bdd8",
      "metadata": {
        "id": "97f2bdd8",
        "outputId": "e9d755a7-574f-476d-8f97-613305cf6e46"
      },
      "outputs": [
        {
          "data": {
            "text/html": [
              "<div>\n",
              "<style scoped>\n",
              "    .dataframe tbody tr th:only-of-type {\n",
              "        vertical-align: middle;\n",
              "    }\n",
              "\n",
              "    .dataframe tbody tr th {\n",
              "        vertical-align: top;\n",
              "    }\n",
              "\n",
              "    .dataframe thead th {\n",
              "        text-align: right;\n",
              "    }\n",
              "</style>\n",
              "<table border=\"1\" class=\"dataframe\">\n",
              "  <thead>\n",
              "    <tr style=\"text-align: right;\">\n",
              "      <th></th>\n",
              "      <th>district</th>\n",
              "      <th>subdist</th>\n",
              "      <th>supplier</th>\n",
              "      <th>perc_sou</th>\n",
              "      <th>perc_lam</th>\n",
              "      <th>pop1849</th>\n",
              "      <th>pop1854</th>\n",
              "      <th>deaths1849</th>\n",
              "      <th>deaths1854</th>\n",
              "    </tr>\n",
              "  </thead>\n",
              "  <tbody>\n",
              "    <tr>\n",
              "      <th>0</th>\n",
              "      <td>Camberwell</td>\n",
              "      <td>Dulwich</td>\n",
              "      <td>Lambeth</td>\n",
              "      <td>0.000000</td>\n",
              "      <td>0.024720</td>\n",
              "      <td>1632.0</td>\n",
              "      <td>1632.0</td>\n",
              "      <td>1</td>\n",
              "      <td>0.0</td>\n",
              "    </tr>\n",
              "    <tr>\n",
              "      <th>1</th>\n",
              "      <td>Lambeth</td>\n",
              "      <td>Norwood</td>\n",
              "      <td>Lambeth</td>\n",
              "      <td>0.000000</td>\n",
              "      <td>0.273631</td>\n",
              "      <td>3749.0</td>\n",
              "      <td>4345.0</td>\n",
              "      <td>2</td>\n",
              "      <td>10.0</td>\n",
              "    </tr>\n",
              "    <tr>\n",
              "      <th>2</th>\n",
              "      <td>Wandsworth</td>\n",
              "      <td>Streatham</td>\n",
              "      <td>Lambeth</td>\n",
              "      <td>0.000000</td>\n",
              "      <td>0.368857</td>\n",
              "      <td>8985.0</td>\n",
              "      <td>9081.0</td>\n",
              "      <td>154</td>\n",
              "      <td>15.0</td>\n",
              "    </tr>\n",
              "    <tr>\n",
              "      <th>3</th>\n",
              "      <td>Wandsworth</td>\n",
              "      <td>Putney</td>\n",
              "      <td>SouthwarkVauxhall</td>\n",
              "      <td>0.017756</td>\n",
              "      <td>0.000000</td>\n",
              "      <td>5155.0</td>\n",
              "      <td>5473.0</td>\n",
              "      <td>8</td>\n",
              "      <td>9.0</td>\n",
              "    </tr>\n",
              "    <tr>\n",
              "      <th>4</th>\n",
              "      <td>Wandsworth</td>\n",
              "      <td>Wandsworth</td>\n",
              "      <td>SouthwarkVauxhall</td>\n",
              "      <td>0.115570</td>\n",
              "      <td>0.000000</td>\n",
              "      <td>9173.0</td>\n",
              "      <td>10306.0</td>\n",
              "      <td>97</td>\n",
              "      <td>59.0</td>\n",
              "    </tr>\n",
              "    <tr>\n",
              "      <th>5</th>\n",
              "      <td>Lambeth</td>\n",
              "      <td>Brixton</td>\n",
              "      <td>SouthwarkVauxhall_Lambeth</td>\n",
              "      <td>0.137275</td>\n",
              "      <td>0.640768</td>\n",
              "      <td>13590.0</td>\n",
              "      <td>16285.0</td>\n",
              "      <td>81</td>\n",
              "      <td>48.0</td>\n",
              "    </tr>\n",
              "    <tr>\n",
              "      <th>6</th>\n",
              "      <td>St. George Southwark</td>\n",
              "      <td>London Road</td>\n",
              "      <td>SouthwarkVauxhall_Lambeth</td>\n",
              "      <td>0.160198</td>\n",
              "      <td>0.669582</td>\n",
              "      <td>17490.0</td>\n",
              "      <td>18368.0</td>\n",
              "      <td>257</td>\n",
              "      <td>93.0</td>\n",
              "    </tr>\n",
              "    <tr>\n",
              "      <th>7</th>\n",
              "      <td>Lambeth</td>\n",
              "      <td>Lambeth Church (1st)</td>\n",
              "      <td>SouthwarkVauxhall_Lambeth</td>\n",
              "      <td>0.169753</td>\n",
              "      <td>0.830247</td>\n",
              "      <td>18409.0</td>\n",
              "      <td>18409.0</td>\n",
              "      <td>215</td>\n",
              "      <td>49.0</td>\n",
              "    </tr>\n",
              "    <tr>\n",
              "      <th>8</th>\n",
              "      <td>St. Saviour Southwark</td>\n",
              "      <td>Christchurch Southwark</td>\n",
              "      <td>SouthwarkVauxhall_Lambeth</td>\n",
              "      <td>0.180344</td>\n",
              "      <td>0.807445</td>\n",
              "      <td>15730.0</td>\n",
              "      <td>16470.0</td>\n",
              "      <td>256</td>\n",
              "      <td>113.0</td>\n",
              "    </tr>\n",
              "    <tr>\n",
              "      <th>9</th>\n",
              "      <td>Lambeth</td>\n",
              "      <td>Waterloo Road (1st)</td>\n",
              "      <td>SouthwarkVauxhall_Lambeth</td>\n",
              "      <td>0.236592</td>\n",
              "      <td>0.763408</td>\n",
              "      <td>13807.0</td>\n",
              "      <td>14521.0</td>\n",
              "      <td>193</td>\n",
              "      <td>58.0</td>\n",
              "    </tr>\n",
              "    <tr>\n",
              "      <th>10</th>\n",
              "      <td>Newington</td>\n",
              "      <td>St. Mary Newington</td>\n",
              "      <td>SouthwarkVauxhall_Lambeth</td>\n",
              "      <td>0.237955</td>\n",
              "      <td>0.511776</td>\n",
              "      <td>13655.0</td>\n",
              "      <td>14619.0</td>\n",
              "      <td>143</td>\n",
              "      <td>92.0</td>\n",
              "    </tr>\n",
              "    <tr>\n",
              "      <th>11</th>\n",
              "      <td>Camberwell</td>\n",
              "      <td>Peckham</td>\n",
              "      <td>SouthwarkVauxhall</td>\n",
              "      <td>0.304909</td>\n",
              "      <td>0.000000</td>\n",
              "      <td>17809.0</td>\n",
              "      <td>22182.0</td>\n",
              "      <td>92</td>\n",
              "      <td>174.0</td>\n",
              "    </tr>\n",
              "    <tr>\n",
              "      <th>12</th>\n",
              "      <td>Camberwell</td>\n",
              "      <td>St. George  Camberwell</td>\n",
              "      <td>SouthwarkVauxhall_Lambeth</td>\n",
              "      <td>0.311699</td>\n",
              "      <td>0.511955</td>\n",
              "      <td>14578.0</td>\n",
              "      <td>17138.0</td>\n",
              "      <td>176</td>\n",
              "      <td>132.0</td>\n",
              "    </tr>\n",
              "    <tr>\n",
              "      <th>13</th>\n",
              "      <td>Lambeth</td>\n",
              "      <td>Lambeth Church (2nd)</td>\n",
              "      <td>SouthwarkVauxhall_Lambeth</td>\n",
              "      <td>0.326116</td>\n",
              "      <td>0.636830</td>\n",
              "      <td>25965.0</td>\n",
              "      <td>28062.0</td>\n",
              "      <td>544</td>\n",
              "      <td>193.0</td>\n",
              "    </tr>\n",
              "    <tr>\n",
              "      <th>14</th>\n",
              "      <td>Lambeth</td>\n",
              "      <td>Waterloo Road (2nd)</td>\n",
              "      <td>SouthwarkVauxhall_Lambeth</td>\n",
              "      <td>0.373706</td>\n",
              "      <td>0.626294</td>\n",
              "      <td>18137.0</td>\n",
              "      <td>18668.0</td>\n",
              "      <td>243</td>\n",
              "      <td>117.0</td>\n",
              "    </tr>\n",
              "    <tr>\n",
              "      <th>15</th>\n",
              "      <td>Lambeth</td>\n",
              "      <td>Kennington (2nd)</td>\n",
              "      <td>SouthwarkVauxhall_Lambeth</td>\n",
              "      <td>0.444951</td>\n",
              "      <td>0.304527</td>\n",
              "      <td>17774.0</td>\n",
              "      <td>20583.0</td>\n",
              "      <td>153</td>\n",
              "      <td>142.0</td>\n",
              "    </tr>\n",
              "    <tr>\n",
              "      <th>16</th>\n",
              "      <td>Newington</td>\n",
              "      <td>Trinity Newington</td>\n",
              "      <td>SouthwarkVauxhall_Lambeth</td>\n",
              "      <td>0.508535</td>\n",
              "      <td>0.491465</td>\n",
              "      <td>20651.0</td>\n",
              "      <td>21335.0</td>\n",
              "      <td>318</td>\n",
              "      <td>210.0</td>\n",
              "    </tr>\n",
              "    <tr>\n",
              "      <th>17</th>\n",
              "      <td>Wandsworth</td>\n",
              "      <td>Clapham</td>\n",
              "      <td>SouthwarkVauxhall_Lambeth</td>\n",
              "      <td>0.511969</td>\n",
              "      <td>0.007995</td>\n",
              "      <td>15622.0</td>\n",
              "      <td>17306.0</td>\n",
              "      <td>114</td>\n",
              "      <td>165.0</td>\n",
              "    </tr>\n",
              "    <tr>\n",
              "      <th>18</th>\n",
              "      <td>Newington</td>\n",
              "      <td>St. Peter Walworth</td>\n",
              "      <td>SouthwarkVauxhall_Lambeth</td>\n",
              "      <td>0.532219</td>\n",
              "      <td>0.467781</td>\n",
              "      <td>28392.0</td>\n",
              "      <td>30080.0</td>\n",
              "      <td>446</td>\n",
              "      <td>388.0</td>\n",
              "    </tr>\n",
              "    <tr>\n",
              "      <th>19</th>\n",
              "      <td>St. George Southwark</td>\n",
              "      <td>Borough Road</td>\n",
              "      <td>SouthwarkVauxhall_Lambeth</td>\n",
              "      <td>0.561958</td>\n",
              "      <td>0.438042</td>\n",
              "      <td>15635.0</td>\n",
              "      <td>16208.0</td>\n",
              "      <td>312</td>\n",
              "      <td>270.0</td>\n",
              "    </tr>\n",
              "    <tr>\n",
              "      <th>20</th>\n",
              "      <td>Camberwell</td>\n",
              "      <td>Camberwell</td>\n",
              "      <td>SouthwarkVauxhall</td>\n",
              "      <td>0.600740</td>\n",
              "      <td>0.000000</td>\n",
              "      <td>16932.0</td>\n",
              "      <td>18921.0</td>\n",
              "      <td>235</td>\n",
              "      <td>240.0</td>\n",
              "    </tr>\n",
              "    <tr>\n",
              "      <th>21</th>\n",
              "      <td>Lambeth</td>\n",
              "      <td>Kennington (1st)</td>\n",
              "      <td>SouthwarkVauxhall_Lambeth</td>\n",
              "      <td>0.669620</td>\n",
              "      <td>0.110225</td>\n",
              "      <td>22926.0</td>\n",
              "      <td>27401.0</td>\n",
              "      <td>187</td>\n",
              "      <td>303.0</td>\n",
              "    </tr>\n",
              "    <tr>\n",
              "      <th>22</th>\n",
              "      <td>Wandsworth</td>\n",
              "      <td>Battersea</td>\n",
              "      <td>SouthwarkVauxhall</td>\n",
              "      <td>0.678323</td>\n",
              "      <td>0.000000</td>\n",
              "      <td>9618.0</td>\n",
              "      <td>12150.0</td>\n",
              "      <td>111</td>\n",
              "      <td>171.0</td>\n",
              "    </tr>\n",
              "    <tr>\n",
              "      <th>23</th>\n",
              "      <td>St. George Southwark</td>\n",
              "      <td>Kent Road</td>\n",
              "      <td>SouthwarkVauxhall_Lambeth</td>\n",
              "      <td>0.683467</td>\n",
              "      <td>0.225837</td>\n",
              "      <td>17016.0</td>\n",
              "      <td>18933.0</td>\n",
              "      <td>267</td>\n",
              "      <td>174.0</td>\n",
              "    </tr>\n",
              "    <tr>\n",
              "      <th>24</th>\n",
              "      <td>Rotherhithe</td>\n",
              "      <td>Rotherhithe</td>\n",
              "      <td>SouthwarkVauxhall</td>\n",
              "      <td>0.779876</td>\n",
              "      <td>0.000000</td>\n",
              "      <td>16949.0</td>\n",
              "      <td>19171.0</td>\n",
              "      <td>352</td>\n",
              "      <td>282.0</td>\n",
              "    </tr>\n",
              "    <tr>\n",
              "      <th>25</th>\n",
              "      <td>St. Saviour Southwark</td>\n",
              "      <td>St. Saviour Southwark</td>\n",
              "      <td>SouthwarkVauxhall</td>\n",
              "      <td>0.826838</td>\n",
              "      <td>0.000000</td>\n",
              "      <td>19432.0</td>\n",
              "      <td>20133.0</td>\n",
              "      <td>283</td>\n",
              "      <td>371.0</td>\n",
              "    </tr>\n",
              "    <tr>\n",
              "      <th>26</th>\n",
              "      <td>St. Olave Southwark</td>\n",
              "      <td>St. John Horsleydown</td>\n",
              "      <td>SouthwarkVauxhall</td>\n",
              "      <td>0.837219</td>\n",
              "      <td>0.000000</td>\n",
              "      <td>11100.0</td>\n",
              "      <td>11509.0</td>\n",
              "      <td>192</td>\n",
              "      <td>148.0</td>\n",
              "    </tr>\n",
              "    <tr>\n",
              "      <th>27</th>\n",
              "      <td>Bermondsey</td>\n",
              "      <td>Leather Market</td>\n",
              "      <td>SouthwarkVauxhall</td>\n",
              "      <td>0.922355</td>\n",
              "      <td>0.000000</td>\n",
              "      <td>14754.0</td>\n",
              "      <td>16144.0</td>\n",
              "      <td>226</td>\n",
              "      <td>237.0</td>\n",
              "    </tr>\n",
              "    <tr>\n",
              "      <th>28</th>\n",
              "      <td>Bermondsey</td>\n",
              "      <td>St. James Bermondsey</td>\n",
              "      <td>SouthwarkVauxhall</td>\n",
              "      <td>1.000000</td>\n",
              "      <td>0.000000</td>\n",
              "      <td>17386.0</td>\n",
              "      <td>19134.0</td>\n",
              "      <td>249</td>\n",
              "      <td>362.0</td>\n",
              "    </tr>\n",
              "    <tr>\n",
              "      <th>29</th>\n",
              "      <td>St. Olave Southwark</td>\n",
              "      <td>St. Olave Southwark</td>\n",
              "      <td>SouthwarkVauxhall</td>\n",
              "      <td>1.000000</td>\n",
              "      <td>0.000000</td>\n",
              "      <td>8015.0</td>\n",
              "      <td>8015.0</td>\n",
              "      <td>157</td>\n",
              "      <td>161.0</td>\n",
              "    </tr>\n",
              "    <tr>\n",
              "      <th>30</th>\n",
              "      <td>Bermondsey</td>\n",
              "      <td>St. Mary Magdalen</td>\n",
              "      <td>SouthwarkVauxhall</td>\n",
              "      <td>1.000000</td>\n",
              "      <td>0.000000</td>\n",
              "      <td>12942.0</td>\n",
              "      <td>15442.0</td>\n",
              "      <td>259</td>\n",
              "      <td>244.0</td>\n",
              "    </tr>\n",
              "    <tr>\n",
              "      <th>31</th>\n",
              "      <td>Lewisham</td>\n",
              "      <td>Sydenham</td>\n",
              "      <td>Lambeth</td>\n",
              "      <td>NaN</td>\n",
              "      <td>NaN</td>\n",
              "      <td>NaN</td>\n",
              "      <td>NaN</td>\n",
              "      <td>5</td>\n",
              "      <td>NaN</td>\n",
              "    </tr>\n",
              "  </tbody>\n",
              "</table>\n",
              "</div>"
            ],
            "text/plain": [
              "                 district                 subdist                   supplier  \\\n",
              "0              Camberwell                 Dulwich                    Lambeth   \n",
              "1                 Lambeth                 Norwood                    Lambeth   \n",
              "2              Wandsworth               Streatham                    Lambeth   \n",
              "3              Wandsworth                  Putney          SouthwarkVauxhall   \n",
              "4              Wandsworth              Wandsworth          SouthwarkVauxhall   \n",
              "5                 Lambeth                 Brixton  SouthwarkVauxhall_Lambeth   \n",
              "6    St. George Southwark             London Road  SouthwarkVauxhall_Lambeth   \n",
              "7                 Lambeth    Lambeth Church (1st)  SouthwarkVauxhall_Lambeth   \n",
              "8   St. Saviour Southwark  Christchurch Southwark  SouthwarkVauxhall_Lambeth   \n",
              "9                 Lambeth     Waterloo Road (1st)  SouthwarkVauxhall_Lambeth   \n",
              "10              Newington      St. Mary Newington  SouthwarkVauxhall_Lambeth   \n",
              "11             Camberwell                 Peckham          SouthwarkVauxhall   \n",
              "12             Camberwell  St. George  Camberwell  SouthwarkVauxhall_Lambeth   \n",
              "13                Lambeth    Lambeth Church (2nd)  SouthwarkVauxhall_Lambeth   \n",
              "14                Lambeth     Waterloo Road (2nd)  SouthwarkVauxhall_Lambeth   \n",
              "15                Lambeth        Kennington (2nd)  SouthwarkVauxhall_Lambeth   \n",
              "16              Newington       Trinity Newington  SouthwarkVauxhall_Lambeth   \n",
              "17             Wandsworth                 Clapham  SouthwarkVauxhall_Lambeth   \n",
              "18              Newington      St. Peter Walworth  SouthwarkVauxhall_Lambeth   \n",
              "19   St. George Southwark            Borough Road  SouthwarkVauxhall_Lambeth   \n",
              "20             Camberwell              Camberwell          SouthwarkVauxhall   \n",
              "21                Lambeth        Kennington (1st)  SouthwarkVauxhall_Lambeth   \n",
              "22             Wandsworth               Battersea          SouthwarkVauxhall   \n",
              "23   St. George Southwark               Kent Road  SouthwarkVauxhall_Lambeth   \n",
              "24            Rotherhithe             Rotherhithe          SouthwarkVauxhall   \n",
              "25  St. Saviour Southwark   St. Saviour Southwark          SouthwarkVauxhall   \n",
              "26    St. Olave Southwark    St. John Horsleydown          SouthwarkVauxhall   \n",
              "27             Bermondsey          Leather Market          SouthwarkVauxhall   \n",
              "28             Bermondsey    St. James Bermondsey          SouthwarkVauxhall   \n",
              "29    St. Olave Southwark     St. Olave Southwark          SouthwarkVauxhall   \n",
              "30             Bermondsey       St. Mary Magdalen          SouthwarkVauxhall   \n",
              "31               Lewisham                Sydenham                    Lambeth   \n",
              "\n",
              "    perc_sou  perc_lam  pop1849  pop1854  deaths1849  deaths1854  \n",
              "0   0.000000  0.024720   1632.0   1632.0           1         0.0  \n",
              "1   0.000000  0.273631   3749.0   4345.0           2        10.0  \n",
              "2   0.000000  0.368857   8985.0   9081.0         154        15.0  \n",
              "3   0.017756  0.000000   5155.0   5473.0           8         9.0  \n",
              "4   0.115570  0.000000   9173.0  10306.0          97        59.0  \n",
              "5   0.137275  0.640768  13590.0  16285.0          81        48.0  \n",
              "6   0.160198  0.669582  17490.0  18368.0         257        93.0  \n",
              "7   0.169753  0.830247  18409.0  18409.0         215        49.0  \n",
              "8   0.180344  0.807445  15730.0  16470.0         256       113.0  \n",
              "9   0.236592  0.763408  13807.0  14521.0         193        58.0  \n",
              "10  0.237955  0.511776  13655.0  14619.0         143        92.0  \n",
              "11  0.304909  0.000000  17809.0  22182.0          92       174.0  \n",
              "12  0.311699  0.511955  14578.0  17138.0         176       132.0  \n",
              "13  0.326116  0.636830  25965.0  28062.0         544       193.0  \n",
              "14  0.373706  0.626294  18137.0  18668.0         243       117.0  \n",
              "15  0.444951  0.304527  17774.0  20583.0         153       142.0  \n",
              "16  0.508535  0.491465  20651.0  21335.0         318       210.0  \n",
              "17  0.511969  0.007995  15622.0  17306.0         114       165.0  \n",
              "18  0.532219  0.467781  28392.0  30080.0         446       388.0  \n",
              "19  0.561958  0.438042  15635.0  16208.0         312       270.0  \n",
              "20  0.600740  0.000000  16932.0  18921.0         235       240.0  \n",
              "21  0.669620  0.110225  22926.0  27401.0         187       303.0  \n",
              "22  0.678323  0.000000   9618.0  12150.0         111       171.0  \n",
              "23  0.683467  0.225837  17016.0  18933.0         267       174.0  \n",
              "24  0.779876  0.000000  16949.0  19171.0         352       282.0  \n",
              "25  0.826838  0.000000  19432.0  20133.0         283       371.0  \n",
              "26  0.837219  0.000000  11100.0  11509.0         192       148.0  \n",
              "27  0.922355  0.000000  14754.0  16144.0         226       237.0  \n",
              "28  1.000000  0.000000  17386.0  19134.0         249       362.0  \n",
              "29  1.000000  0.000000   8015.0   8015.0         157       161.0  \n",
              "30  1.000000  0.000000  12942.0  15442.0         259       244.0  \n",
              "31       NaN       NaN      NaN      NaN           5         NaN  "
            ]
          },
          "execution_count": 2,
          "metadata": {},
          "output_type": "execute_result"
        }
      ],
      "source": [
        "Both_Outbreaks = Subdistricts[[\"district\",\n",
        "                                 \"subdist\",\n",
        "                                 \"supplier\",\n",
        "                                 \"perc_sou\",\n",
        "                                 \"perc_lam\",\n",
        "                                 \"pop1849\",\n",
        "                                 \"pop1854\",\n",
        "                                 \"deaths1849\",\n",
        "                                 \"deaths1854\",\n",
        "                                 ]]\n",
        "\n",
        "Both_Outbreaks"
      ]
    },
    {
      "cell_type": "markdown",
      "id": "39018f19-4c31-4370-a3e3-5cf18a06285c",
      "metadata": {
        "id": "39018f19-4c31-4370-a3e3-5cf18a06285c"
      },
      "source": [
        "### Creating Our Groups\n",
        "\n",
        "We first need to create two groups: subdistricts that received most of their water from the Lambeth water company and subdistricts that received most of their water from the Southwark & Vauxhall water company."
      ]
    },
    {
      "cell_type": "code",
      "execution_count": null,
      "id": "014bbe4b-a753-4ceb-825c-693ebf8bda89",
      "metadata": {
        "id": "014bbe4b-a753-4ceb-825c-693ebf8bda89"
      },
      "outputs": [],
      "source": [
        "# Task 1. split the data into two groups that are mostly Lambeth and mostly Southwark & Vauxhall\n",
        "mostly_lam = Subdistricts[Subdistricts['perc_lam']>0.50]\n",
        "mostly_sv = Subdistricts[Subdistricts['perc_sou']>0.50]"
      ]
    },
    {
      "cell_type": "markdown",
      "id": "3b312847-1251-476c-910a-43115cd2bc19",
      "metadata": {
        "id": "3b312847-1251-476c-910a-43115cd2bc19"
      },
      "source": [
        "We can use these two groups (mostly Lambeth and mostly Southwark & Vauxhall) to create the four groups of the contingency table."
      ]
    },
    {
      "cell_type": "code",
      "execution_count": null,
      "id": "045e2bf3-25a6-48b0-9853-0f15b04cdfbf",
      "metadata": {
        "id": "045e2bf3-25a6-48b0-9853-0f15b04cdfbf",
        "outputId": "7c26f27b-20cb-4b3f-b6e2-e4115d729263"
      },
      "outputs": [
        {
          "name": "stdout",
          "output_type": "stream",
          "text": [
            "Mostly Lambeth deaths in 1849: 2108\n",
            "Mostly Southwark and Vauxhall deaths in 1849: 3708\n"
          ]
        }
      ],
      "source": [
        "# Task 2. calculate the total number of deaths in 1849 for each of the groups\n",
        "lam_deaths_1849 = mostly_lam['deaths1849'].sum()\n",
        "sv_deaths_1849 = mostly_sv['deaths1849'].sum()\n",
        "\n",
        "print(f\"Mostly Lambeth deaths in 1849: {lam_deaths_1849}\")\n",
        "print(f\"Mostly Southwark and Vauxhall deaths in 1849: {sv_deaths_1849}\")"
      ]
    },
    {
      "cell_type": "code",
      "execution_count": null,
      "id": "6df3fcdf-7e99-43d8-baf3-9b96289bd6c9",
      "metadata": {
        "id": "6df3fcdf-7e99-43d8-baf3-9b96289bd6c9",
        "outputId": "d9cd64cc-f021-4f53-9a7b-c863955a5cd5"
      },
      "outputs": [
        {
          "name": "stdout",
          "output_type": "stream",
          "text": [
            "Mostly Lambeth deaths in 1854: 895.0\n",
            "Mostly Southwark and Vauxhall deaths in 1854: 3726.0\n"
          ]
        }
      ],
      "source": [
        "# Task 3. calculate the total number of deaths in 1854 for each of the groups\n",
        "lam_deaths_1854 = mostly_lam['deaths1854'].sum()\n",
        "sv_deaths_1854 = mostly_sv['deaths1854'].sum()\n",
        "\n",
        "print(f\"Mostly Lambeth deaths in 1854: {lam_deaths_1854}\")\n",
        "print(f\"Mostly Southwark and Vauxhall deaths in 1854: {sv_deaths_1854}\")"
      ]
    },
    {
      "cell_type": "markdown",
      "id": "1bee45b6-7f0f-4ae3-b132-0d2f67c8ca46",
      "metadata": {
        "id": "1bee45b6-7f0f-4ae3-b132-0d2f67c8ca46"
      },
      "source": [
        "Now let's put this data in a contingency table."
      ]
    },
    {
      "cell_type": "code",
      "execution_count": null,
      "id": "686048a6",
      "metadata": {
        "id": "686048a6",
        "outputId": "17d8b5a6-a3df-4a10-846a-6d28f1e59c18"
      },
      "outputs": [
        {
          "name": "stdout",
          "output_type": "stream",
          "text": [
            "Our contingency table...\n",
            "                     Mostly Lam           Mostly SV \n",
            "Deaths 1849          2108                 3708      \n",
            "Deaths 1854          895.0                3726.0    \n",
            "\n",
            "\n"
          ]
        }
      ],
      "source": [
        "# our old friend --> the function to create contingency tables.\n",
        "def visualize_contingency_table(contingency_table, top_labels, left_labels):\n",
        "    # print(\"\\t\\t  Close | Far \")\n",
        "    print('{:<20s} {:<20s} {:<10s}'.format(top_labels[0], top_labels[1], top_labels[2]))\n",
        "\n",
        "    i = 0\n",
        "    for line in contingency_table:\n",
        "        print('{:<20s} {:<20s} {:<10s}'.format(left_labels[i], str(line[0]), str(line[1])))\n",
        "        i += 1\n",
        "    print(\"\\n\")\n",
        "\n",
        "top_labels = [\" \", \"Mostly Lam\", \"Mostly SV\"]\n",
        "left_labels = [\"Deaths 1849\", \"Deaths 1854\"]\n",
        "\n",
        "# Task 2. Create a contingency table with the total deaths for each group in 1849 and 1854.\n",
        "contingency_table = [\n",
        "    [lam_deaths_1849, sv_deaths_1849],\n",
        "    [lam_deaths_1854, sv_deaths_1854],\n",
        "\n",
        "]\n",
        "\n",
        "# Visualize the contingency table in the Jupyter console.\n",
        "print(\"Our contingency table...\")\n",
        "visualize_contingency_table(contingency_table, top_labels, left_labels)"
      ]
    },
    {
      "cell_type": "markdown",
      "id": "11a6fd05-d05e-4dd2-ace0-0efdac5aa9d1",
      "metadata": {
        "id": "11a6fd05-d05e-4dd2-ace0-0efdac5aa9d1"
      },
      "source": [
        "<img src=\"https://github.com/uchicago-dsi/2023-data4all/blob/main/imgs/pencil.png?raw=true\" alt=\"Drawing\" align=left width=20px/> <font size=\"4\">**Journal 6b:** Contingency table </font>\n",
        "\n",
        "**What does the contingency table suggest to you?**\n",
        "> Write your answer here!"
      ]
    },
    {
      "cell_type": "markdown",
      "id": "71508e11",
      "metadata": {
        "id": "71508e11"
      },
      "source": [
        "### Formalizing Your Results\n",
        "\n",
        "**Now comes the hard part, convincing others to believe your argument. We can do this two ways:**\n",
        "- Test if the difference in the two groups is statistically significant (Chi-squared and p-value)\n",
        "- Create a visualization"
      ]
    },
    {
      "cell_type": "markdown",
      "id": "985ed5ff-61ce-4b88-8cf7-1e6349b02ff6",
      "metadata": {
        "id": "985ed5ff-61ce-4b88-8cf7-1e6349b02ff6"
      },
      "source": [
        "**Chi-squared**: Test if the difference in the groups is statistically significant:"
      ]
    },
    {
      "cell_type": "code",
      "execution_count": null,
      "id": "24a3654f",
      "metadata": {
        "id": "24a3654f",
        "outputId": "b7280fda-230e-4877-8455-9eeba9baaa30"
      },
      "outputs": [
        {
          "name": "stdout",
          "output_type": "stream",
          "text": [
            "Our p-value: 0.00000\n"
          ]
        }
      ],
      "source": [
        "from scipy.stats import chi2_contingency\n",
        "\n",
        "# Now let us get our p-value!\n",
        "# ... when doing data science in Python, it is common convention to use\n",
        "#.    \"_\" characters to mark variables whose values we don't need.\n",
        "chi_square, p_value, _, _ = chi2_contingency(contingency_table)\n",
        "print(f\"Our p-value: {p_value:.5f}\")"
      ]
    },
    {
      "cell_type": "markdown",
      "id": "ecedd7dc-6f45-4821-9271-1fb031703303",
      "metadata": {
        "id": "ecedd7dc-6f45-4821-9271-1fb031703303"
      },
      "source": [
        "<img src=\"https://github.com/uchicago-dsi/2023-data4all/blob/main/imgs/pencil.png?raw=true\" alt=\"Drawing\" align=left width=20px/> <font size=\"4\">**Journal 6c:** Statistical Significance </font>\n",
        "\n",
        "**Based on the p-value of your $Chi^2$ test, can you claim within reasonable doubt (p < 0.05) that the result of your $Chi^2$ test is statistically significant?**\n",
        "> Write your answer here!\n",
        "\n",
        "<br>"
      ]
    },
    {
      "cell_type": "markdown",
      "id": "e55da4af-017b-4fca-840f-ce22e33014a7",
      "metadata": {
        "id": "e55da4af-017b-4fca-840f-ce22e33014a7"
      },
      "source": [
        "**Visualization.** The contingency table and $Chi^2$ test are based on frequencies (counts) in each group. We know from before, that we want to normalize counts. So let’s divide the death counts in each group and year by the respective population counts to express the groups in `deaths per 1000`.\n",
        "\n"
      ]
    },
    {
      "cell_type": "code",
      "execution_count": null,
      "id": "84af9807-0b35-4034-855d-83cdc5a20cfb",
      "metadata": {
        "id": "84af9807-0b35-4034-855d-83cdc5a20cfb",
        "outputId": "d2a0376d-445e-475d-f1ee-be7a32321144"
      },
      "outputs": [
        {
          "name": "stdout",
          "output_type": "stream",
          "text": [
            "Mostly Lambeth death rate per 1000 in 1849: 13.93\n",
            "Mostly Southwark and Vauhall death rate per 1000 in 1849: 14.99\n"
          ]
        }
      ],
      "source": [
        "# Task 1. Calculate the death rate per 1000 in 1849 for each group\n",
        "lam_rate_1849 = lam_deaths_1849 / (mostly_lam['pop1849'].sum()) * 1000\n",
        "sv_rate_1849 = sv_deaths_1849 / (mostly_sv['pop1849'].sum()) * 1000\n",
        "\n",
        "print(f\"Mostly Lambeth death rate per 1000 in 1849: {lam_rate_1849:.2f}\")\n",
        "print(f\"Mostly Southwark and Vauhall death rate per 1000 in 1849: {sv_rate_1849:.2f}\")"
      ]
    },
    {
      "cell_type": "code",
      "execution_count": null,
      "id": "c34cc043-b0e0-4c2e-8eb7-9f2bede58ef5",
      "metadata": {
        "id": "c34cc043-b0e0-4c2e-8eb7-9f2bede58ef5",
        "outputId": "f083586d-513d-49e5-e08c-991e29672998"
      },
      "outputs": [
        {
          "name": "stdout",
          "output_type": "stream",
          "text": [
            "Mostly Lambeth death rate per 1000 in 1854: 5.51\n",
            "Mostly Southwark and Vauhall death rate per 1000 in 1854: 13.70\n"
          ]
        }
      ],
      "source": [
        "# Task 2. Calculate the death rate per 1000 in 1854 for each group\n",
        "lam_rate_1854 = lam_deaths_1854 / (mostly_lam['pop1854'].sum()) * 1000\n",
        "sv_rate_1854 = sv_deaths_1854 / (mostly_sv['pop1854'].sum()) * 1000\n",
        "\n",
        "print(f\"Mostly Lambeth death rate per 1000 in 1854: {lam_rate_1854:.2f}\")\n",
        "print(f\"Mostly Southwark and Vauhall death rate per 1000 in 1854: {sv_rate_1854:.2f}\")"
      ]
    },
    {
      "cell_type": "code",
      "execution_count": null,
      "id": "920565ff-41a8-49f2-b15d-c21e09a2b369",
      "metadata": {
        "id": "920565ff-41a8-49f2-b15d-c21e09a2b369",
        "outputId": "4e4a12b3-75b5-4124-f624-7adc689f6b68"
      },
      "outputs": [
        {
          "data": {
            "image/png": "[encoded data removed]",
            "text/plain": [
              "<Figure size 432x288 with 1 Axes>"
            ]
          },
          "metadata": {
            "needs_background": "light"
          },
          "output_type": "display_data"
        }
      ],
      "source": [
        "# Task 3: Visualize the differences in the two groups with a bar graph\n",
        "\n",
        "# 1. Let's first view the Lambeth data.\n",
        "plt.bar(x=['Lambeth 1849', 'Lambeth 1854'],\n",
        "        height=[lam_rate_1849, lam_rate_1854], color='purple', label='Subdistricts supplied by Lambeth')\n",
        "\n",
        "# 2. Now let's view the Southwark & Vauxhall data.\n",
        "plt.bar(x=['S&V 1849', 'S&V 1854'],\n",
        "        height=[sv_rate_1849, sv_rate_1854], color='gold', label='Subdistricts supplied by Southwark & Vauxhall')\n",
        "\n",
        "plt.ylim((0,20))\n",
        "plt.ylabel(\"Deaths per 1000 people\")\n",
        "plt.title(\"Cholera Deaths in 1849 and 1854 Between Water Companies\")\n",
        "plt.legend()\n",
        "plt.show()"
      ]
    },
    {
      "cell_type": "markdown",
      "id": "10a2af95",
      "metadata": {
        "id": "10a2af95"
      },
      "source": [
        "<img src=\"https://github.com/uchicago-dsi/2023-data4all/blob/main/imgs/pencil.png?raw=true\" alt=\"Drawing\" align=left width=20px/> <font size=\"4\">**Journal 6d:** An Effective Visualization? </font>\n",
        "\n",
        "**Does this visualization clearly communicate the results of your test? What, if anything, would you change about the visualization to make it easier for the public to understand your findings?**\n",
        "> Write your answer here!"
      ]
    },
    {
      "cell_type": "markdown",
      "id": "ab01ea6e",
      "metadata": {
        "id": "ab01ea6e"
      },
      "source": [
        "<img src=\"https://github.com/uchicago-dsi/2023-data4all/blob/main/imgs/pencil.png?raw=true\" alt=\"Drawing\" align=left width=20px/> <font size=\"4\">**Journal 6e:** Reflection </font>\n",
        "\n",
        "At the end of each notebook in Data4All, we will take time to reflect on what we learned! You can write as much or as little as you like, but please answer the following questions...\n",
        "\n",
        "**What do you understand better after this notebook than before?**\n",
        "> Write your answer here!\n",
        "\n",
        "**Please fill out the Notebook survey here!**\n",
        "> https://forms.gle/54KHEbPGsRxQU3Bh9\n",
        "\n",
        "<br>\n",
        "\n",
        "--------------------------------\n",
        "\n",
        "<br>\n",
        "\n",
        "<img src=\"https://github.com/uchicago-dsi/2023-data4all/blob/main/imgs/save-icon.jpeg?raw=true\" alt=\"Drawing\" align=left width=20px/> <font size=\"4\">    **&ensp;&ensp;&ensp;Last step: save your work!** </font>"
      ]
    },
    {
      "cell_type": "code",
      "execution_count": null,
      "id": "24adf314",
      "metadata": {
        "id": "24adf314"
      },
      "outputs": [],
      "source": []
    }
  ],
  "metadata": {
    "colab": {
      "provenance": []
    },
    "kernelspec": {
      "display_name": "Python 3 (ipykernel)",
      "language": "python",
      "name": "python3"
    },
    "language_info": {
      "codemirror_mode": {
        "name": "ipython",
        "version": 3
      },
      "file_extension": ".py",
      "mimetype": "text/x-python",
      "name": "python",
      "nbconvert_exporter": "python",
      "pygments_lexer": "ipython3",
      "version": "3.9.12"
    }
  },
  "nbformat": 4,
  "nbformat_minor": 5
}